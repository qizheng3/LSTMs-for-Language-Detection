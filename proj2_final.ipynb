{
 "cells": [
  {
   "cell_type": "code",
   "execution_count": 1,
   "metadata": {
    "collapsed": false
   },
   "outputs": [
    {
     "name": "stderr",
     "output_type": "stream",
     "text": [
      "Using TensorFlow backend.\n"
     ]
    }
   ],
   "source": [
    "from __future__ import print_function\n",
    "from keras.models import Sequential\n",
    "from keras.layers import Dense, Activation\n",
    "from keras.layers import LSTM\n",
    "from keras.layers import GRU\n",
    "from keras.layers import SimpleRNN\n",
    "from keras.optimizers import RMSprop\n",
    "from keras.utils.data_utils import get_file\n",
    "#tensorflow.contrib.rnn' has no attribute 'NASCell'\n",
    "from tensorflow.contrib.rnn import GRUCell\n",
    "import sklearn\n",
    "import matplotlib.pyplot as plt\n",
    "from sklearn.metrics import *\n",
    "\n",
    "\n",
    "import numpy as np\n",
    "import random\n",
    "import sys\n",
    "import tensorlayer as tl\n",
    "import tensorflow as tf\n",
    "from bs4 import  BeautifulSoup"
   ]
  },
  {
   "cell_type": "code",
   "execution_count": 2,
   "metadata": {
    "collapsed": true
   },
   "outputs": [],
   "source": [
    "def read_clean_review(path):\n",
    "    file = open(path, encoding='utf-8').read().lower()\n",
    "    clean_1 = BeautifulSoup(file).get_text()\n",
    "    clean_2 = clean_1.split('\\n')\n",
    "    clean = \" \".join(clean_2)\n",
    "    return clean"
   ]
  },
  {
   "cell_type": "code",
   "execution_count": 3,
   "metadata": {
    "collapsed": false
   },
   "outputs": [
    {
     "name": "stderr",
     "output_type": "stream",
     "text": [
      "/home/janus/anaconda3/lib/python3.6/site-packages/bs4/__init__.py:181: UserWarning: No parser was explicitly specified, so I'm using the best available HTML parser for this system (\"lxml\"). This usually isn't a problem, but if you run this code on another system, or in a different virtual environment, it may use a different parser and behave differently.\n",
      "\n",
      "The code that caused this warning is on line 193 of the file /home/janus/anaconda3/lib/python3.6/runpy.py. To get rid of this warning, change code that looks like this:\n",
      "\n",
      " BeautifulSoup([your markup])\n",
      "\n",
      "to this:\n",
      "\n",
      " BeautifulSoup([your markup], \"lxml\")\n",
      "\n",
      "  markup_type=markup_type))\n"
     ]
    }
   ],
   "source": [
    "frn_full = read_clean_review(\"./frn.txt\")\n",
    "eng_full = read_clean_review(\"./eng.txt\")\n",
    "\n",
    "\n",
    "# 80 / 20 split for train and test\n",
    "train_eng = eng_full[:-len(eng_full)//5]\n",
    "train_frn = frn_full[:-len(frn_full)//5]\n",
    "\n",
    "test_eng = eng_full[-len(eng_full)//5:]\n",
    "test_frn = frn_full[-len(frn_full)//5:]\n",
    "#k w z not in French"
   ]
  },
  {
   "cell_type": "code",
   "execution_count": 4,
   "metadata": {
    "collapsed": false
   },
   "outputs": [],
   "source": [
    "# create char and index mapping\n",
    "chars_full = []\n",
    "chars_full += frn_full\n",
    "chars_full += eng_full\n",
    "\n",
    "chars = set(list(set(chars_full)))\n",
    "chars.add('S') # S is start. \n",
    "\n",
    "char_indices = dict((c, i) for i, c in enumerate(chars))\n",
    "indices_char = dict((i, c) for i, c in enumerate(chars))"
   ]
  },
  {
   "cell_type": "markdown",
   "metadata": {},
   "source": [
    "#  \n",
    "# Part I\n",
    "#  "
   ]
  },
  {
   "cell_type": "code",
   "execution_count": 5,
   "metadata": {
    "collapsed": false
   },
   "outputs": [],
   "source": [
    "# get training data\n",
    "def get_train(text, maxlen, seqlen = 0): # maxlen is real sequence length. If maxlen < seqlen, pad 0\n",
    "    gaplen = seqlen - maxlen\n",
    "    sentences = []\n",
    "    next_chars = []\n",
    "    for i in range(0, len(text) - maxlen):\n",
    "        sentences.append(\"S\"*gaplen + text[i: i + maxlen])\n",
    "        next_chars.append(text[i + maxlen])\n",
    "    print('nb sequences:', len(sentences))\n",
    "    \n",
    "    print('Vectorization...')\n",
    "    \n",
    "    X = np.zeros((len(sentences), seqlen, len(chars)), dtype=np.bool)\n",
    "    y = np.zeros((len(sentences), len(chars)), dtype=np.bool)\n",
    "    for i, sentence in enumerate(sentences):\n",
    "        for t, char in enumerate(sentence):\n",
    "            X[i, t, char_indices[char]] = 1\n",
    "        y[i, char_indices[next_chars[i]]] = 1\n",
    "    return X, y"
   ]
  },
  {
   "cell_type": "code",
   "execution_count": 6,
   "metadata": {
    "collapsed": false
   },
   "outputs": [
    {
     "name": "stdout",
     "output_type": "stream",
     "text": [
      "nb sequences: 8590\n",
      "Vectorization...\n",
      "nb sequences: 8589\n",
      "Vectorization...\n",
      "nb sequences: 8588\n",
      "Vectorization...\n",
      "nb sequences: 8587\n",
      "Vectorization...\n",
      "nb sequences: 8586\n",
      "Vectorization...\n"
     ]
    }
   ],
   "source": [
    "X_eng = []\n",
    "y_eng = []\n",
    "# after 5 iterations we get: [SSSSS, t], [SSSSt, r], [SSStr, u], [SStru, m], [Strum, p]\n",
    "for i in np.arange(5):\n",
    "    X, y = get_train(train_eng, i, 5)\n",
    "    X_eng.append(X)\n",
    "    y_eng.append(y)\n",
    "    \n",
    "# combine all shift data together\n",
    "train_eng_X = np.concatenate(X_eng, axis=0)\n",
    "train_eng_y = np.concatenate(y_eng, axis=0)"
   ]
  },
  {
   "cell_type": "code",
   "execution_count": 7,
   "metadata": {
    "collapsed": false
   },
   "outputs": [
    {
     "name": "stdout",
     "output_type": "stream",
     "text": [
      "nb sequences: 9600\n",
      "Vectorization...\n",
      "nb sequences: 9599\n",
      "Vectorization...\n",
      "nb sequences: 9598\n",
      "Vectorization...\n",
      "nb sequences: 9597\n",
      "Vectorization...\n",
      "nb sequences: 9596\n",
      "Vectorization...\n"
     ]
    }
   ],
   "source": [
    "X_frn = []\n",
    "y_frn = []\n",
    "for i in np.arange(5):\n",
    "    X, y = get_train(train_frn, i, 5)\n",
    "    X_frn.append(X)\n",
    "    y_frn.append(y)\n",
    "train_frn_X = np.concatenate(X_frn, axis=0)\n",
    "train_frn_y = np.concatenate(y_frn, axis=0)"
   ]
  },
  {
   "cell_type": "code",
   "execution_count": 8,
   "metadata": {
    "collapsed": false
   },
   "outputs": [],
   "source": [
    "# get test phrases\n",
    "def sample_phrase(text, phrase_len, phrase_num):\n",
    "    pos = np.random.choice(len(text)-phrase_len+1, phrase_num)\n",
    "    phrases = []\n",
    "    for i in range(phrase_num):\n",
    "        phrases.append(text[pos[i]:pos[i]+phrase_len])\n",
    "    return phrases\n",
    "def phraseOnehot(phrases, shift, char_indices):\n",
    "    code = np.zeros([len(phrases), len(phrases[0]), len(char_indices)], dtype=np.bool)\n",
    "    #code = np.zeros([len(phrases), 5, len(char_indices)], dtype=np.bool)\n",
    "    \n",
    "    for i, phrase in enumerate(phrases):\n",
    "        for s in range(shift):\n",
    "            code[i, s, char_indices['S']] = 1\n",
    "        for j, char in enumerate(phrase):\n",
    "            if j + shift >= len(phrases[0]):\n",
    "                break\n",
    "            code[i, j+shift, char_indices[char]] = 1\n",
    "\n",
    "    return code\n",
    "\n",
    "\n",
    "\n",
    "test_eng_phrases = sample_phrase(test_eng, 5, 100)\n",
    "test_frn_phrases = sample_phrase(test_frn, 5, 100)"
   ]
  },
  {
   "cell_type": "markdown",
   "metadata": {
    "collapsed": false
   },
   "source": [
    "# build Models"
   ]
  },
  {
   "cell_type": "code",
   "execution_count": 9,
   "metadata": {
    "collapsed": false,
    "scrolled": true
   },
   "outputs": [
    {
     "name": "stdout",
     "output_type": "stream",
     "text": [
      "Build model...\n"
     ]
    },
    {
     "name": "stderr",
     "output_type": "stream",
     "text": [
      "/home/janus/anaconda3/lib/python3.6/site-packages/keras/models.py:826: UserWarning: The `nb_epoch` argument in `fit` has been renamed `epochs`.\n",
      "  warnings.warn('The `nb_epoch` argument in `fit` '\n"
     ]
    },
    {
     "name": "stdout",
     "output_type": "stream",
     "text": [
      "Train on 34352 samples, validate on 8588 samples\n",
      "Epoch 1/5\n",
      "1s - loss: 2.4922 - val_loss: 1.8647\n",
      "Epoch 2/5\n",
      "1s - loss: 2.2194 - val_loss: 1.6665\n",
      "Epoch 3/5\n",
      "1s - loss: 2.1383 - val_loss: 1.5605\n",
      "Epoch 4/5\n",
      "1s - loss: 2.0965 - val_loss: 1.4557\n",
      "Epoch 5/5\n",
      "1s - loss: 2.0649 - val_loss: 1.4276\n"
     ]
    },
    {
     "data": {
      "text/plain": [
       "<keras.callbacks.History at 0x7f30f85bdef0>"
      ]
     },
     "execution_count": 9,
     "metadata": {},
     "output_type": "execute_result"
    }
   ],
   "source": [
    "print('Build model...')\n",
    "\n",
    "eng_model = Sequential()\n",
    "eng_model.add(LSTM(128, input_shape=(5, len(chars))))\n",
    "eng_model.add(Dense(len(chars)))\n",
    "eng_model.add(Activation('softmax'))\n",
    "\n",
    "optimizer = RMSprop(lr=0.01)\n",
    "eng_model.compile(loss='categorical_crossentropy', optimizer=optimizer)\n",
    "eng_model.fit(train_eng_X, train_eng_y, verbose=2,\n",
    "            batch_size=128, nb_epoch=5, validation_split=0.2)"
   ]
  },
  {
   "cell_type": "code",
   "execution_count": 10,
   "metadata": {
    "collapsed": false
   },
   "outputs": [
    {
     "name": "stdout",
     "output_type": "stream",
     "text": [
      "Build model...\n"
     ]
    },
    {
     "name": "stderr",
     "output_type": "stream",
     "text": [
      "/home/janus/anaconda3/lib/python3.6/site-packages/keras/models.py:826: UserWarning: The `nb_epoch` argument in `fit` has been renamed `epochs`.\n",
      "  warnings.warn('The `nb_epoch` argument in `fit` '\n"
     ]
    },
    {
     "name": "stdout",
     "output_type": "stream",
     "text": [
      "Train on 38392 samples, validate on 9598 samples\n",
      "Epoch 1/5\n",
      "2s - loss: 2.3828 - val_loss: 1.8228\n",
      "Epoch 2/5\n",
      "1s - loss: 2.1546 - val_loss: 1.6368\n",
      "Epoch 3/5\n",
      "1s - loss: 2.0878 - val_loss: 1.5363\n",
      "Epoch 4/5\n",
      "1s - loss: 2.0537 - val_loss: 1.4877\n",
      "Epoch 5/5\n",
      "1s - loss: 2.0288 - val_loss: 1.4463\n"
     ]
    },
    {
     "data": {
      "text/plain": [
       "<keras.callbacks.History at 0x7f30c0eeda20>"
      ]
     },
     "execution_count": 10,
     "metadata": {},
     "output_type": "execute_result"
    }
   ],
   "source": [
    "print('Build model...')\n",
    "frn_model = Sequential()\n",
    "frn_model.add(LSTM(128, input_shape=(5, len(chars))))\n",
    "frn_model.add(Dense(len(chars)))\n",
    "frn_model.add(Activation('softmax'))\n",
    "\n",
    "optimizer = RMSprop(lr=0.01)\n",
    "frn_model.compile(loss='categorical_crossentropy', optimizer=optimizer)\n",
    "frn_model.fit(train_frn_X, train_frn_y, verbose=2,\n",
    "            batch_size=128, nb_epoch=5, validation_split=0.2)"
   ]
  },
  {
   "cell_type": "markdown",
   "metadata": {},
   "source": [
    "# test score"
   ]
  },
  {
   "cell_type": "code",
   "execution_count": 11,
   "metadata": {
    "collapsed": false
   },
   "outputs": [],
   "source": [
    "def phrase_prob(phrase, model):\n",
    "    logprob = np.zeros([len(phrase)])\n",
    "    onehot = phraseOnehot(phrase, 0, char_indices)\n",
    "    for shift in range(5,1,-1):\n",
    "        phrase_shift = phraseOnehot(phrase, shift, char_indices)\n",
    "        pred_prob = model.predict_proba(phrase_shift, verbose=0)\n",
    "        logprob += np.log(pred_prob[onehot[:,5-shift,:]])\n",
    "    return logprob\n",
    "\n",
    "\n",
    "eng_model_eng_prob = phrase_prob(test_eng_phrases, eng_model)\n",
    "eng_model_frn_prob = phrase_prob(test_frn_phrases, eng_model)\n",
    "frn_model_eng_prob = phrase_prob(test_eng_phrases, frn_model)\n",
    "frn_model_frn_prob = phrase_prob(test_frn_phrases, frn_model)\n",
    "\n",
    "\n",
    "y_hat = np.zeros(200)\n",
    "\n",
    "y_hat[:100] = eng_model_eng_prob / frn_model_eng_prob\n",
    "y_hat[100:] = eng_model_frn_prob / frn_model_frn_prob\n",
    "\n",
    "y_true = np.ones(200)\n",
    "y_true[:100] = 0"
   ]
  },
  {
   "cell_type": "code",
   "execution_count": 12,
   "metadata": {
    "collapsed": false
   },
   "outputs": [
    {
     "data": {
      "image/png": "[encoded data removed]",
      "text/plain": [
       "<matplotlib.figure.Figure at 0x7f30c0e73ba8>"
      ]
     },
     "metadata": {},
     "output_type": "display_data"
    }
   ],
   "source": [
    "lw = 2\n",
    "plt.figure(figsize=(10, 7))\n",
    "fpr, tpr, _ = sklearn.metrics.roc_curve(y_true, np.log(y_hat))\n",
    "roc_auc= sklearn.metrics.auc(fpr, tpr)        \n",
    "\n",
    "plt.plot(fpr, tpr, color='b', lw=lw, label='AUC=%.4f' % (roc_auc))\n",
    "plt.legend(loc=\"lower right\")\n",
    "plt.xlabel(\"Score: %f\"%roc_auc)\n",
    "plt.title('part I basic LSTM Model')\n",
    "plt.show()"
   ]
  },
  {
   "cell_type": "markdown",
   "metadata": {},
   "source": [
    "#  \n",
    "# Part 2\n",
    "#  "
   ]
  },
  {
   "cell_type": "markdown",
   "metadata": {},
   "source": [
    "## 1. test different cell types"
   ]
  },
  {
   "cell_type": "markdown",
   "metadata": {},
   "source": [
    "#### 1.1 GRU cell"
   ]
  },
  {
   "cell_type": "code",
   "execution_count": 13,
   "metadata": {
    "collapsed": false
   },
   "outputs": [
    {
     "name": "stdout",
     "output_type": "stream",
     "text": [
      "Build model...\n"
     ]
    },
    {
     "name": "stderr",
     "output_type": "stream",
     "text": [
      "/home/janus/anaconda3/lib/python3.6/site-packages/keras/models.py:826: UserWarning: The `nb_epoch` argument in `fit` has been renamed `epochs`.\n",
      "  warnings.warn('The `nb_epoch` argument in `fit` '\n"
     ]
    },
    {
     "name": "stdout",
     "output_type": "stream",
     "text": [
      "Train on 34352 samples, validate on 8588 samples\n",
      "Epoch 1/5\n",
      "1s - loss: 2.4203 - val_loss: 1.8633\n",
      "Epoch 2/5\n",
      "1s - loss: 2.2121 - val_loss: 1.6569\n",
      "Epoch 3/5\n",
      "1s - loss: 2.1482 - val_loss: 1.5616\n",
      "Epoch 4/5\n",
      "1s - loss: 2.1103 - val_loss: 1.5169\n",
      "Epoch 5/5\n",
      "1s - loss: 2.0816 - val_loss: 1.4848\n",
      "Build model...\n",
      "Train on 38392 samples, validate on 9598 samples\n",
      "Epoch 1/5\n",
      "1s - loss: 2.3280 - val_loss: 1.7610\n",
      "Epoch 2/5\n",
      "1s - loss: 2.1475 - val_loss: 1.6230\n",
      "Epoch 3/5\n",
      "1s - loss: 2.0959 - val_loss: 1.5919\n",
      "Epoch 4/5\n",
      "1s - loss: 2.0662 - val_loss: 1.5055\n",
      "Epoch 5/5\n",
      "2s - loss: 2.0433 - val_loss: 1.5248\n"
     ]
    },
    {
     "data": {
      "text/plain": [
       "<keras.callbacks.History at 0x7f3093ad5470>"
      ]
     },
     "execution_count": 13,
     "metadata": {},
     "output_type": "execute_result"
    }
   ],
   "source": [
    "print('Build model...')\n",
    "\n",
    "eng_model = Sequential()\n",
    "eng_model.add(GRU(128, input_shape=(5, len(chars))))\n",
    "eng_model.add(Dense(len(chars)))\n",
    "eng_model.add(Activation('softmax'))\n",
    "\n",
    "optimizer = RMSprop(lr=0.01)\n",
    "eng_model.compile(loss='categorical_crossentropy', optimizer=optimizer)\n",
    "eng_model.fit(train_eng_X, train_eng_y, verbose=2,\n",
    "            batch_size=128, nb_epoch=5, validation_split=0.2)\n",
    "\n",
    "print('Build model...')\n",
    "frn_model = Sequential()\n",
    "frn_model.add(GRU(128, input_shape=(5, len(chars))))\n",
    "frn_model.add(Dense(len(chars)))\n",
    "frn_model.add(Activation('softmax'))\n",
    "\n",
    "optimizer = RMSprop(lr=0.01)\n",
    "frn_model.compile(loss='categorical_crossentropy', optimizer=optimizer)\n",
    "frn_model.fit(train_frn_X, train_frn_y, verbose=2,\n",
    "            batch_size=128, nb_epoch=5, validation_split=0.2)"
   ]
  },
  {
   "cell_type": "code",
   "execution_count": 14,
   "metadata": {
    "collapsed": false
   },
   "outputs": [
    {
     "data": {
      "image/png": "[encoded data removed]",
      "text/plain": [
       "<matplotlib.figure.Figure at 0x7f3093a5aac8>"
      ]
     },
     "metadata": {},
     "output_type": "display_data"
    }
   ],
   "source": [
    "eng_model_eng_prob = phrase_prob(test_eng_phrases, eng_model)\n",
    "eng_model_frn_prob = phrase_prob(test_frn_phrases, eng_model)\n",
    "frn_model_eng_prob = phrase_prob(test_eng_phrases, frn_model)\n",
    "frn_model_frn_prob = phrase_prob(test_frn_phrases, frn_model)\n",
    "\n",
    "y_hat = np.zeros(200)\n",
    "\n",
    "y_hat[:100] = eng_model_eng_prob / frn_model_eng_prob\n",
    "y_hat[100:] = eng_model_frn_prob / frn_model_frn_prob\n",
    "\n",
    "y_true = np.ones(200)\n",
    "y_true[:100] = 0\n",
    "\n",
    "lw = 2\n",
    "plt.figure(figsize=(10, 7))\n",
    "fpr, tpr, _ = sklearn.metrics.roc_curve(y_true, np.log(y_hat))\n",
    "roc_auc= sklearn.metrics.auc(fpr, tpr)        \n",
    "\n",
    "plt.plot(fpr, tpr, color='b', lw=lw, label='AUC=%.4f' % (roc_auc))\n",
    "plt.legend(loc=\"lower right\")\n",
    "plt.xlabel(\"Score: %f\"%roc_auc)\n",
    "plt.title('part II GRU Model')\n",
    "plt.show()"
   ]
  },
  {
   "cell_type": "markdown",
   "metadata": {},
   "source": [
    "#### 1.2 Basic RNN Cell"
   ]
  },
  {
   "cell_type": "code",
   "execution_count": 15,
   "metadata": {
    "collapsed": false
   },
   "outputs": [
    {
     "name": "stdout",
     "output_type": "stream",
     "text": [
      "Build model...\n"
     ]
    },
    {
     "name": "stderr",
     "output_type": "stream",
     "text": [
      "/home/janus/anaconda3/lib/python3.6/site-packages/keras/models.py:826: UserWarning: The `nb_epoch` argument in `fit` has been renamed `epochs`.\n",
      "  warnings.warn('The `nb_epoch` argument in `fit` '\n"
     ]
    },
    {
     "name": "stdout",
     "output_type": "stream",
     "text": [
      "Train on 34352 samples, validate on 8588 samples\n",
      "Epoch 1/5\n",
      "1s - loss: 2.8882 - val_loss: 2.2866\n",
      "Epoch 2/5\n",
      "0s - loss: 2.4067 - val_loss: 2.1610\n",
      "Epoch 3/5\n",
      "0s - loss: 2.3495 - val_loss: 2.0778\n",
      "Epoch 4/5\n",
      "0s - loss: 2.3019 - val_loss: 2.1210\n",
      "Epoch 5/5\n",
      "0s - loss: 2.2697 - val_loss: 1.8649\n",
      "Build model...\n",
      "Train on 38392 samples, validate on 9598 samples\n",
      "Epoch 1/5\n",
      "1s - loss: 2.9740 - val_loss: 2.2880\n",
      "Epoch 2/5\n",
      "0s - loss: 2.3933 - val_loss: 2.0904\n",
      "Epoch 3/5\n",
      "0s - loss: 2.2782 - val_loss: 1.9404\n",
      "Epoch 4/5\n",
      "1s - loss: 2.2395 - val_loss: 1.8582\n",
      "Epoch 5/5\n",
      "0s - loss: 2.2087 - val_loss: 1.8260\n"
     ]
    },
    {
     "data": {
      "text/plain": [
       "<keras.callbacks.History at 0x7f3093150e48>"
      ]
     },
     "execution_count": 15,
     "metadata": {},
     "output_type": "execute_result"
    }
   ],
   "source": [
    "print('Build model...')\n",
    "\n",
    "eng_model = Sequential()\n",
    "eng_model.add(SimpleRNN(128, input_shape=(5, len(chars))))\n",
    "eng_model.add(Dense(len(chars)))\n",
    "eng_model.add(Activation('softmax'))\n",
    "\n",
    "optimizer = RMSprop(lr=0.01)\n",
    "eng_model.compile(loss='categorical_crossentropy', optimizer=optimizer)\n",
    "eng_model.fit(train_eng_X, train_eng_y, verbose=2,\n",
    "            batch_size=128, nb_epoch=5, validation_split=0.2)\n",
    "\n",
    "print('Build model...')\n",
    "frn_model = Sequential()\n",
    "frn_model.add(SimpleRNN(128, input_shape=(5, len(chars))))\n",
    "frn_model.add(Dense(len(chars)))\n",
    "frn_model.add(Activation('softmax'))\n",
    "\n",
    "optimizer = RMSprop(lr=0.01)\n",
    "frn_model.compile(loss='categorical_crossentropy', optimizer=optimizer)\n",
    "frn_model.fit(train_frn_X, train_frn_y, verbose=2,\n",
    "            batch_size=128, nb_epoch=5, validation_split=0.2)"
   ]
  },
  {
   "cell_type": "code",
   "execution_count": 16,
   "metadata": {
    "collapsed": false
   },
   "outputs": [
    {
     "data": {
      "image/png": "[encoded data removed]",
      "text/plain": [
       "<matplotlib.figure.Figure at 0x7f30c0bab198>"
      ]
     },
     "metadata": {},
     "output_type": "display_data"
    }
   ],
   "source": [
    "eng_model_eng_prob = phrase_prob(test_eng_phrases, eng_model)\n",
    "eng_model_frn_prob = phrase_prob(test_frn_phrases, eng_model)\n",
    "frn_model_eng_prob = phrase_prob(test_eng_phrases, frn_model)\n",
    "frn_model_frn_prob = phrase_prob(test_frn_phrases, frn_model)\n",
    "\n",
    "y_hat = np.zeros(200)\n",
    "\n",
    "y_hat[:100] = eng_model_eng_prob / frn_model_eng_prob\n",
    "y_hat[100:] = eng_model_frn_prob / frn_model_frn_prob\n",
    "\n",
    "y_true = np.ones(200)\n",
    "y_true[:100] = 0\n",
    "\n",
    "lw = 2\n",
    "plt.figure(figsize=(10, 7))\n",
    "fpr, tpr, _ = sklearn.metrics.roc_curve(y_true, np.log(y_hat))\n",
    "roc_auc= sklearn.metrics.auc(fpr, tpr)        \n",
    "\n",
    "plt.plot(fpr, tpr, color='b', lw=lw, label='AUC=%.4f' % (roc_auc))\n",
    "plt.legend(loc=\"lower right\")\n",
    "plt.xlabel(\"Score: %f\"%roc_auc)\n",
    "plt.title('part II basic RNN Cell Model')\n",
    "plt.show()"
   ]
  },
  {
   "cell_type": "markdown",
   "metadata": {},
   "source": [
    "## 2.test different sizes \n"
   ]
  },
  {
   "cell_type": "markdown",
   "metadata": {},
   "source": [
    "#### 2.1 size = 256"
   ]
  },
  {
   "cell_type": "code",
   "execution_count": 19,
   "metadata": {
    "collapsed": false
   },
   "outputs": [
    {
     "name": "stdout",
     "output_type": "stream",
     "text": [
      "Build model...\n"
     ]
    },
    {
     "name": "stderr",
     "output_type": "stream",
     "text": [
      "/home/janus/anaconda3/lib/python3.6/site-packages/keras/models.py:826: UserWarning: The `nb_epoch` argument in `fit` has been renamed `epochs`.\n",
      "  warnings.warn('The `nb_epoch` argument in `fit` '\n"
     ]
    },
    {
     "name": "stdout",
     "output_type": "stream",
     "text": [
      "Train on 34352 samples, validate on 8588 samples\n",
      "Epoch 1/5\n",
      "2s - loss: 2.5259 - val_loss: 1.9431\n",
      "Epoch 2/5\n",
      "1s - loss: 2.2029 - val_loss: 1.6472\n",
      "Epoch 3/5\n",
      "1s - loss: 2.1248 - val_loss: 1.5004\n",
      "Epoch 4/5\n",
      "2s - loss: 2.0794 - val_loss: 1.4163\n",
      "Epoch 5/5\n",
      "1s - loss: 2.0514 - val_loss: 1.4326\n",
      "Build model...\n",
      "Train on 38392 samples, validate on 9598 samples\n",
      "Epoch 1/5\n",
      "2s - loss: 2.4493 - val_loss: 1.7645\n",
      "Epoch 2/5\n",
      "2s - loss: 2.1463 - val_loss: 1.5850\n",
      "Epoch 3/5\n",
      "2s - loss: 2.0783 - val_loss: 1.4704\n",
      "Epoch 4/5\n",
      "2s - loss: 2.0409 - val_loss: 1.4692\n",
      "Epoch 5/5\n",
      "1s - loss: 2.0171 - val_loss: 1.4227\n"
     ]
    },
    {
     "data": {
      "image/png": "[encoded data removed]",
      "text/plain": [
       "<matplotlib.figure.Figure at 0x7f308b01ee10>"
      ]
     },
     "metadata": {},
     "output_type": "display_data"
    }
   ],
   "source": [
    "print('Build model...')\n",
    "\n",
    "eng_model = Sequential()\n",
    "eng_model.add(LSTM(256, input_shape=(5, len(chars))))\n",
    "eng_model.add(Dense(len(chars)))\n",
    "eng_model.add(Activation('softmax'))\n",
    "\n",
    "optimizer = RMSprop(lr=0.01)\n",
    "eng_model.compile(loss='categorical_crossentropy', optimizer=optimizer)\n",
    "eng_model.fit(train_eng_X, train_eng_y, verbose=2,\n",
    "            batch_size=128, nb_epoch=5, validation_split=0.2)\n",
    "\n",
    "print('Build model...')\n",
    "frn_model = Sequential()\n",
    "frn_model.add(LSTM(256, input_shape=(5, len(chars))))\n",
    "frn_model.add(Dense(len(chars)))\n",
    "frn_model.add(Activation('softmax'))\n",
    "\n",
    "optimizer = RMSprop(lr=0.01)\n",
    "frn_model.compile(loss='categorical_crossentropy', optimizer=optimizer)\n",
    "frn_model.fit(train_frn_X, train_frn_y, verbose=2,\n",
    "            batch_size=128, nb_epoch=5, validation_split=0.2)\n",
    "\n",
    "\n",
    "\n",
    "eng_model_eng_prob = phrase_prob(test_eng_phrases, eng_model)\n",
    "eng_model_frn_prob = phrase_prob(test_frn_phrases, eng_model)\n",
    "frn_model_eng_prob = phrase_prob(test_eng_phrases, frn_model)\n",
    "frn_model_frn_prob = phrase_prob(test_frn_phrases, frn_model)\n",
    "\n",
    "y_hat = np.zeros(200)\n",
    "\n",
    "y_hat[:100] = eng_model_eng_prob / frn_model_eng_prob\n",
    "y_hat[100:] = eng_model_frn_prob / frn_model_frn_prob\n",
    "\n",
    "y_true = np.ones(200)\n",
    "y_true[:100] = 0\n",
    "\n",
    "lw = 2\n",
    "plt.figure(figsize=(10, 7))\n",
    "fpr, tpr, _ = sklearn.metrics.roc_curve(y_true, np.log(y_hat))\n",
    "roc_auc= sklearn.metrics.auc(fpr, tpr)        \n",
    "\n",
    "plt.plot(fpr, tpr, color='b', lw=lw, label='AUC=%.4f' % (roc_auc))\n",
    "plt.legend(loc=\"lower right\")\n",
    "plt.xlabel(\"Score: %f\"%roc_auc)\n",
    "plt.title('part II 64 hidden unit LSTM Model')\n",
    "plt.show()"
   ]
  },
  {
   "cell_type": "markdown",
   "metadata": {},
   "source": [
    "#### 2.2 size = 64"
   ]
  },
  {
   "cell_type": "code",
   "execution_count": 17,
   "metadata": {
    "collapsed": false
   },
   "outputs": [
    {
     "name": "stdout",
     "output_type": "stream",
     "text": [
      "Build model...\n"
     ]
    },
    {
     "name": "stderr",
     "output_type": "stream",
     "text": [
      "/home/janus/anaconda3/lib/python3.6/site-packages/keras/models.py:826: UserWarning: The `nb_epoch` argument in `fit` has been renamed `epochs`.\n",
      "  warnings.warn('The `nb_epoch` argument in `fit` '\n"
     ]
    },
    {
     "name": "stdout",
     "output_type": "stream",
     "text": [
      "Train on 34352 samples, validate on 8588 samples\n",
      "Epoch 1/5\n",
      "2s - loss: 2.4908 - val_loss: 1.9336\n",
      "Epoch 2/5\n",
      "1s - loss: 2.2426 - val_loss: 1.7285\n",
      "Epoch 3/5\n",
      "2s - loss: 2.1663 - val_loss: 1.6335\n",
      "Epoch 4/5\n",
      "2s - loss: 2.1228 - val_loss: 1.5730\n",
      "Epoch 5/5\n",
      "1s - loss: 2.0911 - val_loss: 1.5176\n",
      "Build model...\n",
      "Train on 38392 samples, validate on 9598 samples\n",
      "Epoch 1/5\n",
      "2s - loss: 2.3994 - val_loss: 1.8748\n",
      "Epoch 2/5\n",
      "2s - loss: 2.1786 - val_loss: 1.7137\n",
      "Epoch 3/5\n",
      "2s - loss: 2.1132 - val_loss: 1.6120\n",
      "Epoch 4/5\n",
      "2s - loss: 2.0761 - val_loss: 1.5647\n",
      "Epoch 5/5\n",
      "2s - loss: 2.0513 - val_loss: 1.5131\n"
     ]
    },
    {
     "data": {
      "image/png": "[encoded data removed]",
      "text/plain": [
       "<matplotlib.figure.Figure at 0x7f30919ccfd0>"
      ]
     },
     "metadata": {},
     "output_type": "display_data"
    }
   ],
   "source": [
    "print('Build model...')\n",
    "\n",
    "eng_model = Sequential()\n",
    "eng_model.add(LSTM(64, input_shape=(5, len(chars))))\n",
    "eng_model.add(Dense(len(chars)))\n",
    "eng_model.add(Activation('softmax'))\n",
    "\n",
    "optimizer = RMSprop(lr=0.01)\n",
    "eng_model.compile(loss='categorical_crossentropy', optimizer=optimizer)\n",
    "eng_model.fit(train_eng_X, train_eng_y, verbose=2,\n",
    "            batch_size=128, nb_epoch=5, validation_split=0.2)\n",
    "\n",
    "print('Build model...')\n",
    "frn_model = Sequential()\n",
    "frn_model.add(LSTM(64, input_shape=(5, len(chars))))\n",
    "frn_model.add(Dense(len(chars)))\n",
    "frn_model.add(Activation('softmax'))\n",
    "\n",
    "optimizer = RMSprop(lr=0.01)\n",
    "frn_model.compile(loss='categorical_crossentropy', optimizer=optimizer)\n",
    "frn_model.fit(train_frn_X, train_frn_y, verbose=2,\n",
    "            batch_size=128, nb_epoch=5, validation_split=0.2)\n",
    "\n",
    "\n",
    "\n",
    "eng_model_eng_prob = phrase_prob(test_eng_phrases, eng_model)\n",
    "eng_model_frn_prob = phrase_prob(test_frn_phrases, eng_model)\n",
    "frn_model_eng_prob = phrase_prob(test_eng_phrases, frn_model)\n",
    "frn_model_frn_prob = phrase_prob(test_frn_phrases, frn_model)\n",
    "\n",
    "y_hat = np.zeros(200)\n",
    "\n",
    "y_hat[:100] = eng_model_eng_prob / frn_model_eng_prob\n",
    "y_hat[100:] = eng_model_frn_prob / frn_model_frn_prob\n",
    "\n",
    "y_true = np.ones(200)\n",
    "y_true[:100] = 0\n",
    "\n",
    "lw = 2\n",
    "plt.figure(figsize=(10, 7))\n",
    "fpr, tpr, _ = sklearn.metrics.roc_curve(y_true, np.log(y_hat))\n",
    "roc_auc= sklearn.metrics.auc(fpr, tpr)        \n",
    "\n",
    "plt.plot(fpr, tpr, color='b', lw=lw, label='AUC=%.4f' % (roc_auc))\n",
    "plt.legend(loc=\"lower right\")\n",
    "plt.xlabel(\"Score: %f\"%roc_auc)\n",
    "plt.title('part II 64 hidden unit LSTM Model')\n",
    "plt.show()"
   ]
  },
  {
   "cell_type": "markdown",
   "metadata": {},
   "source": [
    "#### 2.3 size = 32"
   ]
  },
  {
   "cell_type": "code",
   "execution_count": 18,
   "metadata": {
    "collapsed": false
   },
   "outputs": [
    {
     "name": "stdout",
     "output_type": "stream",
     "text": [
      "Build model...\n"
     ]
    },
    {
     "name": "stderr",
     "output_type": "stream",
     "text": [
      "/home/janus/anaconda3/lib/python3.6/site-packages/keras/models.py:826: UserWarning: The `nb_epoch` argument in `fit` has been renamed `epochs`.\n",
      "  warnings.warn('The `nb_epoch` argument in `fit` '\n"
     ]
    },
    {
     "name": "stdout",
     "output_type": "stream",
     "text": [
      "Train on 34352 samples, validate on 8588 samples\n",
      "Epoch 1/5\n",
      "2s - loss: 2.5561 - val_loss: 2.0543\n",
      "Epoch 2/5\n",
      "2s - loss: 2.3031 - val_loss: 1.8528\n",
      "Epoch 3/5\n",
      "1s - loss: 2.2294 - val_loss: 1.7551\n",
      "Epoch 4/5\n",
      "1s - loss: 2.1842 - val_loss: 1.6963\n",
      "Epoch 5/5\n",
      "1s - loss: 2.1517 - val_loss: 1.6559\n",
      "Build model...\n",
      "Train on 38392 samples, validate on 9598 samples\n",
      "Epoch 1/5\n",
      "2s - loss: 2.4465 - val_loss: 1.9612\n",
      "Epoch 2/5\n",
      "1s - loss: 2.2192 - val_loss: 1.7968\n",
      "Epoch 3/5\n",
      "1s - loss: 2.1522 - val_loss: 1.7195\n",
      "Epoch 4/5\n",
      "1s - loss: 2.1154 - val_loss: 1.6483\n",
      "Epoch 5/5\n",
      "1s - loss: 2.0894 - val_loss: 1.6199\n"
     ]
    },
    {
     "data": {
      "image/png": "[encoded data removed]",
      "text/plain": [
       "<matplotlib.figure.Figure at 0x7f3090338cf8>"
      ]
     },
     "metadata": {},
     "output_type": "display_data"
    }
   ],
   "source": [
    "print('Build model...')\n",
    "\n",
    "eng_model = Sequential()\n",
    "eng_model.add(LSTM(32, input_shape=(5, len(chars))))\n",
    "eng_model.add(Dense(len(chars)))\n",
    "eng_model.add(Activation('softmax'))\n",
    "\n",
    "optimizer = RMSprop(lr=0.01)\n",
    "eng_model.compile(loss='categorical_crossentropy', optimizer=optimizer)\n",
    "eng_model.fit(train_eng_X, train_eng_y, verbose=2,\n",
    "            batch_size=128, nb_epoch=5, validation_split=0.2)\n",
    "\n",
    "print('Build model...')\n",
    "frn_model = Sequential()\n",
    "frn_model.add(LSTM(32, input_shape=(5, len(chars))))\n",
    "frn_model.add(Dense(len(chars)))\n",
    "frn_model.add(Activation('softmax'))\n",
    "\n",
    "optimizer = RMSprop(lr=0.01)\n",
    "frn_model.compile(loss='categorical_crossentropy', optimizer=optimizer)\n",
    "frn_model.fit(train_frn_X, train_frn_y, verbose=2,\n",
    "            batch_size=128, nb_epoch=5, validation_split=0.2)\n",
    "\n",
    "\n",
    "\n",
    "eng_model_eng_prob = phrase_prob(test_eng_phrases, eng_model)\n",
    "eng_model_frn_prob = phrase_prob(test_frn_phrases, eng_model)\n",
    "frn_model_eng_prob = phrase_prob(test_eng_phrases, frn_model)\n",
    "frn_model_frn_prob = phrase_prob(test_frn_phrases, frn_model)\n",
    "\n",
    "y_hat = np.zeros(200)\n",
    "\n",
    "y_hat[:100] = eng_model_eng_prob / frn_model_eng_prob\n",
    "y_hat[100:] = eng_model_frn_prob / frn_model_frn_prob\n",
    "\n",
    "y_true = np.ones(200)\n",
    "y_true[:100] = 0\n",
    "\n",
    "lw = 2\n",
    "plt.figure(figsize=(10, 7))\n",
    "fpr, tpr, _ = sklearn.metrics.roc_curve(y_true, np.log(y_hat))\n",
    "roc_auc= sklearn.metrics.auc(fpr, tpr)        \n",
    "\n",
    "plt.plot(fpr, tpr, color='b', lw=lw, label='AUC=%.4f' % (roc_auc))\n",
    "plt.legend(loc=\"lower right\")\n",
    "plt.xlabel(\"Score: %f\"%roc_auc)\n",
    "plt.title('part II 32 hidden unit LSTM Model')\n",
    "plt.show()"
   ]
  }
 ],
 "metadata": {
  "kernelspec": {
   "display_name": "Python 3",
   "language": "python",
   "name": "python3"
  },
  "language_info": {
   "codemirror_mode": {
    "name": "ipython",
    "version": 3
   },
   "file_extension": ".py",
   "mimetype": "text/x-python",
   "name": "python",
   "nbconvert_exporter": "python",
   "pygments_lexer": "ipython3",
   "version": "3.6.0"
  }
 },
 "nbformat": 4,
 "nbformat_minor": 2
}
